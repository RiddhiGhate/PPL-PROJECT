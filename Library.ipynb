{
 "cells": [
  {
   "cell_type": "code",
   "execution_count": null,
   "metadata": {},
   "outputs": [],
   "source": [
    "from tkinter import *\n",
    "from PIL import ImageTk,Image\n",
    "\n",
    "\n",
    "\n",
    "class login:\n",
    "    \n",
    "    def __init__(self, root):\n",
    "        self.root = root\n",
    "        self.root.title(\"'Library Management System'\")\n",
    "        self.root.geometry('1200x800+0+0')\n",
    "        self.bgimage = ImageTk.PhotoImage(file = \"SAVE_20200505_152131.jpg\")\n",
    "        self.icon = ImageTk.PhotoImage(file = \"SAVE_20200505_224132.jpg\")\n",
    "        self.user = ImageTk.PhotoImage(file = \"SAVE_20200505_160805.jpg\")\n",
    "        self.password = ImageTk.PhotoImage(file = \"SAVE_20200505_160756.jpg\")\n",
    "        self.logo = ImageTk.PhotoImage(file = \"SAVE_20200505_160756.jpg\")\n",
    "        self.uname = StringVar()\n",
    "        self.upass = StringVar()\n",
    "        bglabel = Label(self.root, text = \"Login Page\", image = self.bgimage).pack()\n",
    "        \n",
    "        loginframe = Frame(self.root, width = 500, height = 300, bg = \"antique white\")\n",
    "        loginframe.place(x = 600, y = 300, anchor = \"c\")\n",
    "       \n",
    "        clicked = StringVar()\n",
    "        clicked.set(\"Employee\")\n",
    "        iconlabel = Label(loginframe, image = self.icon,).grid(row = 0, column = 0, columnspan = 2)\n",
    "        welcome = Label(loginframe, text = \"Welcome!\",font = (\"verdana\",15,\"bold\"), bg = \"antique white\").grid(row = 1, column = 0, columnspan = 2, pady =5)\n",
    "        drop = OptionMenu(loginframe,clicked, \"Employee\", \"Student\").grid(row = 2, column = 0, columnspan = 2, pady = 10)\n",
    "        userlabel = Label(loginframe,text = \"Username\",image = self.user, compound = LEFT,font = (\"verdana\",10,\"bold\"), bg = \"white\").grid(row = 3, column = 0, padx = 20, pady = 10)               \n",
    "        userentry = Entry(loginframe, bd = 5,textvariable = self.uname, relief = GROOVE).grid(row = 3, column = 1, padx = 20, pady = 10)\n",
    "        passlabel = Label(loginframe,text = \"Password\",image = self.password ,compound = LEFT,font = (\"verdana\",10,\"bold\"), bg =\"white\").grid(row = 4, column = 0,padx = 20, pady =10)\n",
    "        passentry = Entry(loginframe, bd = 5,textvariable = self.upass, relief = GROOVE).grid(row = 4, column = 1, padx = 20, pady = 10)\n",
    "                                                                                            \n",
    "        loginbutton = Button(loginframe, text = \"Login\", width = 15, bg = \"white\",font = (\"verdana\",10,\"bold\")).grid(row = 5, column = 0, columnspan = 2, padx = 10, pady = 5)\n",
    "        signupbutton = Button(loginframe, text = \"Sign Up\", width = 15, bg = \"white\",font = (\"verdana\",10,\"bold\")).grid(row = 6, column = 0, columnspan = 2, padx = 10)\n",
    "\n",
    "    def login(self):\n",
    "        if self.uname == \"\" or self.upass == \"\":\n",
    "            messagebox.showerror(\"Invalid username or password!\")\n",
    "                                                                  \n",
    "                                                                                                 \n",
    "root = Toplevel()\n",
    "obj = login(root)\n",
    "\n",
    "\n",
    "\n",
    "root.mainloop()"
   ]
  },
  {
   "cell_type": "code",
   "execution_count": null,
   "metadata": {},
   "outputs": [],
   "source": []
  },
  {
   "cell_type": "code",
   "execution_count": null,
   "metadata": {},
   "outputs": [],
   "source": []
  }
 ],
 "metadata": {
  "kernelspec": {
   "display_name": "Python 3",
   "language": "python",
   "name": "python3"
  },
  "language_info": {
   "codemirror_mode": {
    "name": "ipython",
    "version": 3
   },
   "file_extension": ".py",
   "mimetype": "text/x-python",
   "name": "python",
   "nbconvert_exporter": "python",
   "pygments_lexer": "ipython3",
   "version": "3.7.6"
  }
 },
 "nbformat": 4,
 "nbformat_minor": 4
}
